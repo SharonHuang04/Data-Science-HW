{
 "cells": [
  {
   "cell_type": "code",
   "execution_count": 2,
   "metadata": {},
   "outputs": [],
   "source": [
    "# (1)\n",
    "import pandas as pd\n",
    "import numpy as np\n",
    "file=pd.read_csv(\"C:\\\\Users\\\\IDEA3C\\\\Downloads\\\\purchase_data.csv\")\n",
    "# Read purchasing file and store into pandas data frame\n",
    "df=pd.DataFrame(file)"
   ]
  },
  {
   "cell_type": "code",
   "execution_count": 3,
   "metadata": {},
   "outputs": [
    {
     "name": "stdout",
     "output_type": "stream",
     "text": [
      "   Total Players\n",
      "0            576\n"
     ]
    }
   ],
   "source": [
    "# (2) Display the total number of players\n",
    "df1=df.drop_duplicates([\"SN\"])  #刪除重複的玩家名字\n",
    "x=len(df1.SN)  #計算玩家數量\n",
    "list1=[x]\n",
    "df2=pd.DataFrame(list1,columns = [\"Total Players\"])  #把結果化成DataFrame\n",
    "print(df2)"
   ]
  },
  {
   "cell_type": "code",
   "execution_count": 42,
   "metadata": {},
   "outputs": [
    {
     "name": "stdout",
     "output_type": "stream",
     "text": [
      "   Number of Unique Items  Average Price  Number of Purchases  Total Revenue\n",
      "0                     179       3.050987                  780        2379.77\n"
     ]
    }
   ],
   "source": [
    "# (3) \n",
    "df1=df.drop_duplicates([\"Item Name\"])  #刪除重複物品名稱\n",
    "a=len(df1[\"Item Name\"])  #計算物品數量\n",
    "b=df[\"Price\"].mean()  #計算平均價格\n",
    "c=len(df[\"Purchase ID\"])  #計算Purchase ID的數量\n",
    "d=df[\"Price\"].sum()  #計算總收益\n",
    "list1=[[a,b,c,d]]\n",
    "df2=pd.DataFrame(list1,columns = [\"Number of Unique Items\",\"Average Price\",\"Number of Purchases\",\"Total Revenue\"])  #把結果化成DataFrame\n",
    "print(df2)"
   ]
  },
  {
   "cell_type": "code",
   "execution_count": 88,
   "metadata": {},
   "outputs": [
    {
     "name": "stdout",
     "output_type": "stream",
     "text": [
      "                       Percentage of Players  Total Count\n",
      "Male                               84.027778          484\n",
      "Female                             14.062500           81\n",
      "Other / Non-Disclosed               1.909722           11\n"
     ]
    }
   ],
   "source": [
    "# (4)\n",
    "df1=df.drop_duplicates([\"SN\"])  #刪除多次購買的人\n",
    "x=df1[\"Gender\"].value_counts(\"Male\")  #計算Gender中各個名稱的percentage\n",
    "y=df1[\"Gender\"].value_counts()     #計算Gender中各個名稱出現的次數\n",
    "df2=(x*100).to_frame()          #將x內的資料轉成dataframe\n",
    "df2.rename(columns={\"Gender\":\"Percentage of Players\"},inplace=True)  #重新幫column命名\n",
    "df3=y.to_frame()        #將y內的資料轉成dataframe\n",
    "df3.rename(columns={\"Gender\":\"Total Count\"},inplace=True)    #重新幫column命名\n",
    "df4=df2.merge(df3,how=\"outer\",left_index=True,right_index=True)  #將兩個dataframe融合成一個\n",
    "print(df4)"
   ]
  },
  {
   "cell_type": "code",
   "execution_count": 8,
   "metadata": {},
   "outputs": [
    {
     "name": "stdout",
     "output_type": "stream",
     "text": [
      "                       Purchase Count  Average Purchase Price  \\\n",
      "Female                            113                3.203009   \n",
      "Male                              652                3.017853   \n",
      "Other / Non-Disclosed              15                3.346000   \n",
      "\n",
      "                       Total Purchase Value  Avg Purchase Total per Person  \n",
      "Female                               361.94                       4.468395  \n",
      "Male                                1967.64                       4.065372  \n",
      "Other / Non-Disclosed                 50.19                       4.562727  \n"
     ]
    }
   ],
   "source": [
    "# (5)\n",
    "df1=df.drop_duplicates([\"SN\"])   #刪除多次購買的人\n",
    "a=df1[\"Gender\"].value_counts()   #計算Gender中各個名稱出現的次數\n",
    "df2=a.to_frame()                  #將a內的資料轉成dataframe\n",
    "df2.rename(columns={\"Gender\":\"Total\"},inplace=True)    #重新幫column命名\n",
    "p=df[\"Gender\"].value_counts()  #計算Gender中各個名稱出現的次數\n",
    "df3=p.to_frame()                #將x內的資料轉成dataframe\n",
    "df3.rename(columns={\"Gender\":\"Purchase Count\"},inplace=True)  #重新幫column命名\n",
    "df4=df.groupby([\"Gender\"]) \n",
    "y=df4[\"Price\"].aggregate([\"mean\",\"sum\"])   #計算Average Purchase Price&Total Purchase Value\n",
    "y.rename(columns={\"mean\":\"Average Purchase Price\",\"sum\":\"Total Purchase Value\"},inplace=True)  #重新幫column命名\n",
    "df5=df3.merge(y,how=\"outer\",left_index=True,right_index=True)   #將兩個dataframe融合成一個\n",
    "df6=df4[\"Price\"].aggregate([\"sum\"])\n",
    "df6.rename(columns={\"sum\":\"Total\"},inplace=True)\n",
    "df7=df6.iloc[:,:].div(df2.iloc[:,:],axis=0)    #計算Avg Purchase Total per Person\n",
    "df7.rename(columns={\"Total\":\"Avg Purchase Total per Person\"},inplace=True)\n",
    "df8=df5.merge(df7,how=\"outer\",left_index=True,right_index=True)    #將兩個dataframe融合成一個\n",
    "print(df8)"
   ]
  },
  {
   "cell_type": "code",
   "execution_count": 24,
   "metadata": {},
   "outputs": [
    {
     "name": "stdout",
     "output_type": "stream",
     "text": [
      "       Percentage of Players  Total Count\n",
      "20-24              44.791667          258\n",
      "15-19              18.576389          107\n",
      "25-29              13.368056           77\n",
      "30-34               9.027778           52\n",
      "35-39               5.381944           31\n",
      "10-14               3.819444           22\n",
      "<10                 2.951389           17\n",
      "40+                 2.083333           12\n"
     ]
    }
   ],
   "source": [
    "# (6)\n",
    "df1=df.drop_duplicates([\"SN\"])   #刪除多次購買的人\n",
    "name=[\"<10\",\"10-14\",\"15-19\",\"20-24\",\"25-29\",\"30-34\",\"35-39\",\"40+\"]  #分段標籤\n",
    "bins=[0,9,14,19,24,29,34,39,100]   #分段區間\n",
    "a=pd.cut(df1[\"Age\"],bins,labels=name).value_counts()    #統計各個區間的個數(Total Count)\n",
    "b=pd.cut(df1[\"Age\"],bins,labels=name).value_counts(\"<10\")   #統計各個區間的百分比(Percentage of Players)\n",
    "df2=a.to_frame()\n",
    "df3=(b*100).to_frame()\n",
    "df4=df3.merge(df2,how=\"outer\",left_index=True,right_index=True)   #將兩個dataframe融合成一個\n",
    "df4.rename(columns={\"Age_x\":\"Percentage of Players\",\"Age_y\":\"Total Count\"},inplace=True)    #重新幫column命名\n",
    "print(df4)"
   ]
  },
  {
   "cell_type": "code",
   "execution_count": 60,
   "metadata": {
    "scrolled": false
   },
   "outputs": [
    {
     "name": "stdout",
     "output_type": "stream",
     "text": [
      "       Purchase Count\n",
      "20-24             365\n",
      "15-19             136\n",
      "25-29             101\n",
      "30-34              73\n",
      "35-39              41\n",
      "10-14              28\n",
      "<10                23\n",
      "40+                13\n"
     ]
    }
   ],
   "source": [
    "# (7)\n",
    "name=[\"<10\",\"10-14\",\"15-19\",\"20-24\",\"25-29\",\"30-34\",\"35-39\",\"40+\"]  #分段標籤\n",
    "bins=[0,9,14,19,24,29,34,39,100]   #分段區間\n",
    "a=pd.cut(df[\"Age\"],bins,labels=name).value_counts()    #統計各個區間的個數(Purchase Count)\n",
    "df1=a.to_frame()\n",
    "df1.rename(columns={\"Age\":\"Purchase Count\"},inplace=True)\n",
    "print(df1)"
   ]
  },
  {
   "cell_type": "code",
   "execution_count": 52,
   "metadata": {},
   "outputs": [
    {
     "name": "stdout",
     "output_type": "stream",
     "text": [
      "             Purchase Count\n",
      "Lisosia93                 5\n",
      "Idastidru52               4\n",
      "Iral74                    4\n",
      "Silaera56                 3\n",
      "Raesty92                  3\n"
     ]
    }
   ],
   "source": [
    "# (8)\n",
    "x=df[\"SN\"].value_counts().head(5)\n",
    "df1=x.to_frame()\n",
    "df1.rename(columns={\"SN\":\"Purchase Count\"},inplace=True)\n",
    "\n",
    "print(df1)"
   ]
  },
  {
   "cell_type": "code",
   "execution_count": 87,
   "metadata": {},
   "outputs": [
    {
     "name": "stdout",
     "output_type": "stream",
     "text": [
      "     Purchase Count\n",
      "178              12\n",
      "82                9\n",
      "108               9\n",
      "145               9\n",
      "92                8\n",
      "                                              Purchase Count\n",
      "Final Critic                                              13\n",
      "Oathbreaker, Last Hope of the Breaking Storm              12\n",
      "Nirvana                                                    9\n",
      "Fiery Glass Crusader                                       9\n",
      "Persuasion                                                 9\n"
     ]
    }
   ],
   "source": [
    "# (9)\n",
    "x=df[\"Item ID\"].value_counts().head(5)\n",
    "df1=x.to_frame()\n",
    "df1.rename(columns={\"Item ID\":\"Purchase Count\"},inplace=True)\n",
    "y=df[\"Item Name\"].value_counts().head(5)\n",
    "df2=y.to_frame()\n",
    "df2.rename(columns={\"Item Name\":\"Purchase Count\"},inplace=True)\n",
    "\n",
    "print(df1)\n",
    "print(df2)"
   ]
  },
  {
   "cell_type": "code",
   "execution_count": null,
   "metadata": {},
   "outputs": [],
   "source": []
  }
 ],
 "metadata": {
  "kernelspec": {
   "display_name": "Python 3",
   "language": "python",
   "name": "python3"
  },
  "language_info": {
   "codemirror_mode": {
    "name": "ipython",
    "version": 3
   },
   "file_extension": ".py",
   "mimetype": "text/x-python",
   "name": "python",
   "nbconvert_exporter": "python",
   "pygments_lexer": "ipython3",
   "version": "3.8.5"
  }
 },
 "nbformat": 4,
 "nbformat_minor": 4
}
