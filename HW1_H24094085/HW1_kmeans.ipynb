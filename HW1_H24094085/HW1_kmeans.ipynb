{
 "cells": [
  {
   "cell_type": "code",
   "execution_count": 12,
   "metadata": {},
   "outputs": [],
   "source": [
    "import pandas as pd\n",
    "import numpy as np\n",
    "import matplotlib.pyplot as plt\n",
    "%matplotlib inline\n",
    "file=pd.read_csv(\"C:\\\\Users\\\\IDEA3C\\\\Downloads\\\\cdata.csv\")  #開啟檔案\n",
    "df=pd.DataFrame(file)   #csv檔匯入資料並建立資料表"
   ]
  },
  {
   "cell_type": "code",
   "execution_count": 3,
   "metadata": {},
   "outputs": [
    {
     "ename": "AttributeError",
     "evalue": "'builtin_function_or_method' object has no attribute 'randon'",
     "output_type": "error",
     "traceback": [
      "\u001b[1;31m---------------------------------------------------------------------------\u001b[0m",
      "\u001b[1;31mAttributeError\u001b[0m                            Traceback (most recent call last)",
      "\u001b[1;32m<ipython-input-3-53036b20f8cd>\u001b[0m in \u001b[0;36m<module>\u001b[1;34m\u001b[0m\n\u001b[0;32m     36\u001b[0m \u001b[0my\u001b[0m\u001b[1;33m=\u001b[0m\u001b[0mnp\u001b[0m\u001b[1;33m.\u001b[0m\u001b[0marray\u001b[0m\u001b[1;33m(\u001b[0m\u001b[1;33m[\u001b[0m\u001b[0mdf\u001b[0m\u001b[1;33m[\u001b[0m\u001b[1;34m\"y\"\u001b[0m\u001b[1;33m]\u001b[0m\u001b[1;33m]\u001b[0m\u001b[1;33m)\u001b[0m\u001b[1;33m\u001b[0m\u001b[1;33m\u001b[0m\u001b[0m\n\u001b[0;32m     37\u001b[0m \u001b[1;33m\u001b[0m\u001b[0m\n\u001b[1;32m---> 38\u001b[1;33m \u001b[0mmu_x\u001b[0m\u001b[1;33m=\u001b[0m\u001b[0mnp\u001b[0m\u001b[1;33m.\u001b[0m\u001b[0marray\u001b[0m\u001b[1;33m.\u001b[0m\u001b[0mrandon\u001b[0m\u001b[1;33m.\u001b[0m\u001b[0mrandint\u001b[0m\u001b[1;33m(\u001b[0m\u001b[0mdf\u001b[0m\u001b[1;33m[\u001b[0m\u001b[1;34m\"x\"\u001b[0m\u001b[1;33m]\u001b[0m\u001b[1;33m[\u001b[0m\u001b[1;36m0\u001b[0m\u001b[1;33m]\u001b[0m\u001b[1;33m,\u001b[0m\u001b[0mdf\u001b[0m\u001b[1;33m[\u001b[0m\u001b[1;34m\"x\"\u001b[0m\u001b[1;33m]\u001b[0m\u001b[1;33m[\u001b[0m\u001b[0mlen\u001b[0m\u001b[1;33m[\u001b[0m\u001b[0mdf\u001b[0m\u001b[1;33m.\u001b[0m\u001b[0mx\u001b[0m\u001b[1;33m]\u001b[0m\u001b[1;33m]\u001b[0m\u001b[1;33m,\u001b[0m\u001b[0mcl_num\u001b[0m\u001b[1;33m)\u001b[0m\u001b[1;33m\u001b[0m\u001b[1;33m\u001b[0m\u001b[0m\n\u001b[0m\u001b[0;32m     39\u001b[0m \u001b[0mmu_y\u001b[0m\u001b[1;33m=\u001b[0m\u001b[0mnp\u001b[0m\u001b[1;33m.\u001b[0m\u001b[0marray\u001b[0m\u001b[1;33m.\u001b[0m\u001b[0mrandon\u001b[0m\u001b[1;33m.\u001b[0m\u001b[0mrandint\u001b[0m\u001b[1;33m(\u001b[0m\u001b[0mdf\u001b[0m\u001b[1;33m[\u001b[0m\u001b[1;34m\"y\"\u001b[0m\u001b[1;33m]\u001b[0m\u001b[1;33m[\u001b[0m\u001b[1;36m0\u001b[0m\u001b[1;33m]\u001b[0m\u001b[1;33m,\u001b[0m\u001b[0mdf\u001b[0m\u001b[1;33m[\u001b[0m\u001b[1;34m\"y\"\u001b[0m\u001b[1;33m]\u001b[0m\u001b[1;33m[\u001b[0m\u001b[0mlen\u001b[0m\u001b[1;33m[\u001b[0m\u001b[0mdf\u001b[0m\u001b[1;33m.\u001b[0m\u001b[0my\u001b[0m\u001b[1;33m]\u001b[0m\u001b[1;33m]\u001b[0m\u001b[1;33m,\u001b[0m\u001b[0mcl_num\u001b[0m\u001b[1;33m)\u001b[0m\u001b[1;33m\u001b[0m\u001b[1;33m\u001b[0m\u001b[0m\n\u001b[0;32m     40\u001b[0m \u001b[0mplt\u001b[0m\u001b[1;33m.\u001b[0m\u001b[0mscatter\u001b[0m\u001b[1;33m(\u001b[0m\u001b[0mx\u001b[0m\u001b[1;33m,\u001b[0m\u001b[0my\u001b[0m\u001b[1;33m,\u001b[0m\u001b[0mcolor\u001b[0m\u001b[1;33m=\u001b[0m\u001b[1;34m\"red\"\u001b[0m\u001b[1;33m)\u001b[0m\u001b[1;33m\u001b[0m\u001b[1;33m\u001b[0m\u001b[0m\n",
      "\u001b[1;31mAttributeError\u001b[0m: 'builtin_function_or_method' object has no attribute 'randon'"
     ]
    }
   ],
   "source": [
    "# Question(1)\n",
    "cl_num=4   #分成四群\n",
    "data_num=len(df.x)  #資料總數\n",
    "\n",
    "def dist(x,y,mu_x,mu_y):   #mu_x,mu_y 為隨意選出的中心\n",
    "    return ((x-mu_x)**2+(y-mu_y)**2)  #計算點之間的距離\n",
    "\n",
    "# 對每筆資料進行分群\n",
    "dict1=dict()\n",
    "def cluster(x,y,mu_x,mu_y):\n",
    "    team=[]\n",
    "    for i in range(data_num):\n",
    "        for j in range(cl_num):\n",
    "            distant=dist(x[i],y[i],mu_x[j],mu_y[j])   #算出各點的距離\n",
    "            team.append(distant)\n",
    "        a=team.index(min(team))    #找出距離最短的元素位置\n",
    "        if a not in dict1:\n",
    "            dict1.append((x[i],y[i]))   #將不在dict1裡面的元素存進去\n",
    "    return dict1\n",
    "\n",
    "def new_mu(dict1,mu_x,mu_y):\n",
    "    sumx=0\n",
    "    sumy=0\n",
    "    new_mu_x=[]\n",
    "    new_mu_y=[]\n",
    "    for key,values in dict1.items():\n",
    "        for k in values:\n",
    "            sumx+=k[0]\n",
    "            sumy+=k[1]\n",
    "        new_mux=sumx/len(values)  # 新的平均數\n",
    "        new_muy=sumy/len(values)\n",
    "        new_mu_x.append(new_mux)  #將新的平均數放到list中\n",
    "        new_mu_y.append(new_muy)\n",
    "    return new_mu_x,new_mu_y\n",
    "    \n",
    "x=np.array([df[\"x\"]])\n",
    "y=np.array([df[\"y\"]])\n",
    "\n",
    "mu_x=np.array.randon.randint(df[\"x\"][0],df[\"x\"][len[df.x]],cl_num)   #待除錯!\n",
    "mu_y=np.array.randon.randint(df[\"y\"][0],df[\"y\"][len[df.y]],cl_num)\n",
    "plt.scatter(x,y,color=\"red\")\n",
    "plt.scatter(mu_x,mu_y,color=\"blue\")\n",
    "plt.show()"
   ]
  },
  {
   "cell_type": "code",
   "execution_count": 15,
   "metadata": {},
   "outputs": [
    {
     "ename": "SyntaxError",
     "evalue": "invalid syntax (<ipython-input-15-011c77225fae>, line 6)",
     "output_type": "error",
     "traceback": [
      "\u001b[1;36m  File \u001b[1;32m\"<ipython-input-15-011c77225fae>\"\u001b[1;36m, line \u001b[1;32m6\u001b[0m\n\u001b[1;33m    plt.plot(k,SSE,\"b\")\u001b[0m\n\u001b[1;37m    ^\u001b[0m\n\u001b[1;31mSyntaxError\u001b[0m\u001b[1;31m:\u001b[0m invalid syntax\n"
     ]
    }
   ],
   "source": [
    "# Question (2)\n",
    "for k in range(2,51):\n",
    "    for y in df[\"y\"]:\n",
    "        mu_y=df[\"y\"].mean()\n",
    "        SSE=sum((y-mu_y**2)*k   #計算SSE\n",
    "plt.plot(k,SSE,\"b\")\n",
    "plt.xlabel(\"Number of k\")\n",
    "plt.ylabel(\"Sum of square error\")\n",
    "plt.show()"
   ]
  },
  {
   "cell_type": "code",
   "execution_count": null,
   "metadata": {},
   "outputs": [],
   "source": [
    "# Question (3)\n",
    "\n",
    "plt.bar(k.SSE,color=[\"blue\"])\n",
    "plt.xlabel(\"Fixed k=10\")   #x的標籤名稱\n",
    "plt.ylabel(\"Sum of square error\")   #y的標籤名稱\n",
    "plt.title(\"Reault of ten times randomly pick the initial points\")  #圖表名稱\n",
    "plt.show()"
   ]
  }
 ],
 "metadata": {
  "kernelspec": {
   "display_name": "Python 3",
   "language": "python",
   "name": "python3"
  },
  "language_info": {
   "codemirror_mode": {
    "name": "ipython",
    "version": 3
   },
   "file_extension": ".py",
   "mimetype": "text/x-python",
   "name": "python",
   "nbconvert_exporter": "python",
   "pygments_lexer": "ipython3",
   "version": "3.8.5"
  }
 },
 "nbformat": 4,
 "nbformat_minor": 4
}
