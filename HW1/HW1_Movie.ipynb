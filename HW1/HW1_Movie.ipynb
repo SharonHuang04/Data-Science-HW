{
 "cells": [
  {
   "cell_type": "code",
   "execution_count": 2,
   "metadata": {},
   "outputs": [],
   "source": [
    "import pandas as pd\n",
    "file=pd.read_csv(\"C:\\\\Users\\\\IDEA3C\\\\Downloads\\\\IMDB-Movie-Data.csv\")  #開啟檔案\n",
    "df=pd.DataFrame(file)   #csv檔匯入資料並建立資料表"
   ]
  },
  {
   "cell_type": "code",
   "execution_count": 3,
   "metadata": {
    "scrolled": false
   },
   "outputs": [
    {
     "name": "stdout",
     "output_type": "stream",
     "text": [
      "    Rank           Title                    Genre        Director  \\\n",
      "2    118          Dangal   Action|Biography|Drama   Nitesh Tiwari   \n",
      "4     97   Kimi no na wa  Animation|Drama|Fantasy  Makoto Shinkai   \n",
      "15   862  Koe no katachi  Animation|Drama|Romance    Naoko Yamada   \n",
      "\n",
      "                                               Actors  Year  \\\n",
      "2   Aamir Khan| Sakshi Tanwar| Fatima Sana Shaikh|...  2016   \n",
      "4   Ryunosuke Kamiki| Mone Kamishiraishi| Ryo Nari...  2016   \n",
      "15     Miyu Irino| Saori Hayami| Aoi Yuki| Kensho Ono  2016   \n",
      "\n",
      "    Runtime (Minutes)  Rating  Votes  Revenue (Millions)  Metascore  \n",
      "2                 161     8.8  48969               11.15        NaN  \n",
      "4                 106     8.6  34110                4.68       79.0  \n",
      "15                129     8.4   2421                 NaN       80.0  \n"
     ]
    }
   ],
   "source": [
    "# Question (1)\n",
    "x=df[df[\"Year\"].isin([\"2016\"])]  #判斷2016是否在Year欄位裡\n",
    "print(x.head(3))  #由於資料中的Rating已經由大到小排序，直接印出前三行即為所求    "
   ]
  },
  {
   "cell_type": "code",
   "execution_count": 10,
   "metadata": {},
   "outputs": [
    {
     "ename": "TypeError",
     "evalue": "combine() missing 1 required positional argument: 'func'",
     "output_type": "error",
     "traceback": [
      "\u001b[1;31m---------------------------------------------------------------------------\u001b[0m",
      "\u001b[1;31mTypeError\u001b[0m                                 Traceback (most recent call last)",
      "\u001b[1;32m<ipython-input-10-4c99c5ae5972>\u001b[0m in \u001b[0;36m<module>\u001b[1;34m\u001b[0m\n\u001b[0;32m     11\u001b[0m \u001b[0mdf3\u001b[0m\u001b[1;33m=\u001b[0m\u001b[0mdf\u001b[0m\u001b[1;33m[\u001b[0m\u001b[1;34m\"Actor3\"\u001b[0m\u001b[1;33m]\u001b[0m\u001b[1;33m.\u001b[0m\u001b[0mvalue_counts\u001b[0m\u001b[1;33m(\u001b[0m\u001b[1;33m)\u001b[0m\u001b[1;33m\u001b[0m\u001b[1;33m\u001b[0m\u001b[0m\n\u001b[0;32m     12\u001b[0m \u001b[0mdf4\u001b[0m\u001b[1;33m=\u001b[0m\u001b[0mdf\u001b[0m\u001b[1;33m[\u001b[0m\u001b[1;34m\"Actor4\"\u001b[0m\u001b[1;33m]\u001b[0m\u001b[1;33m.\u001b[0m\u001b[0mvalue_counts\u001b[0m\u001b[1;33m(\u001b[0m\u001b[1;33m)\u001b[0m\u001b[1;33m\u001b[0m\u001b[1;33m\u001b[0m\u001b[0m\n\u001b[1;32m---> 13\u001b[1;33m \u001b[0mdf5\u001b[0m\u001b[1;33m=\u001b[0m\u001b[0ma\u001b[0m\u001b[1;33m.\u001b[0m\u001b[0mcombine\u001b[0m\u001b[1;33m(\u001b[0m\u001b[0mb\u001b[0m\u001b[1;33m)\u001b[0m\u001b[1;33m\u001b[0m\u001b[1;33m\u001b[0m\u001b[0m\n\u001b[0m\u001b[0;32m     14\u001b[0m \u001b[1;33m\u001b[0m\u001b[0m\n\u001b[0;32m     15\u001b[0m \u001b[0mprint\u001b[0m\u001b[1;33m(\u001b[0m\u001b[0mdf5\u001b[0m\u001b[1;33m)\u001b[0m\u001b[1;33m\u001b[0m\u001b[1;33m\u001b[0m\u001b[0m\n",
      "\u001b[1;31mTypeError\u001b[0m: combine() missing 1 required positional argument: 'func'"
     ]
    }
   ],
   "source": [
    "# Question (2)\n",
    "df=df.dropna(subset=[\"Revenue (Millions)\"])   #刪除Revenue為空 的列\n",
    "df[\"Actor1\"]=df[\"Actors\"].map(lambda x:x.split(\"|\")[0])   #將Actors裡面的4個人分開\n",
    "df[\"Actor2\"]=df[\"Actors\"].map(lambda x:x.split(\"|\")[1])\n",
    "df[\"Actor3\"]=df[\"Actors\"].map(lambda x:x.split(\"|\")[2])\n",
    "df[\"Actor4\"]=df[\"Actors\"].map(lambda x:x.split(\"|\")[-1])\n",
    "df1=df[\"Actor1\"].value_counts()\n",
    "a=df1.to_frame()\n",
    "df2=df[\"Actor2\"].value_counts()\n",
    "b=df2.to_frame()\n",
    "df3=df[\"Actor3\"].value_counts()\n",
    "df4=df[\"Actor4\"].value_counts()\n",
    "df5=a. (b,how=\"outer\",left_index=True,right_index=True)\n",
    "\n",
    "print(df5)"
   ]
  },
  {
   "cell_type": "code",
   "execution_count": 33,
   "metadata": {},
   "outputs": [
    {
     "name": "stdout",
     "output_type": "stream",
     "text": [
      "7.185714285714285\n"
     ]
    }
   ],
   "source": [
    "# Question (3)\n",
    "x=df[df.Actors.str.contains(\"Emma Watson\")]   #在Actors這欄，選出名字為Emma Watson的\n",
    "print(x[\"Rating\"].mean())  #篩選完的Rating平均"
   ]
  },
  {
   "cell_type": "code",
   "execution_count": null,
   "metadata": {},
   "outputs": [],
   "source": [
    "# Question (4)\n"
   ]
  },
  {
   "cell_type": "code",
   "execution_count": 36,
   "metadata": {},
   "outputs": [
    {
     "name": "stdout",
     "output_type": "stream",
     "text": [
      "Actor1           Actor2                 Actor3               Actor4                  Genre1  Genre2 \n",
      "Aamir Khan        Anushka Sharma         Sanjay Dutt         Boman Irani             Comedy  Romance    1\n",
      "                  Madhavan               Mona Singh           Sharman Joshi          Comedy  Drama      1\n",
      "                  Sakshi Tanwar          Fatima Sana Shaikh  Sanya Malhotra          Action  Drama      1\n",
      "Aaron Paul        Dominic Cooper         Imogen Poots         Scott Mescudi          Action  Drama      1\n",
      "Aaron Poole       Kenneth Welsh         Daniel Fathers        Kathleen Munroe        Horror  Sci-Fi     1\n",
      "                                                                                                       ..\n",
      "Zachary Gordon    Robert Capron          Devon Bostick       Steve Zahn              Comedy  Family     1\n",
      "                                         Rachael Harris      Steve Zahn              Comedy  Family     1\n",
      "Zoey Deutch       James Franco           Tangie Ambrose      Cedric the Entertainer  Comedy  Comedy     1\n",
      "                  Lucy Fry               Danila Kozlovsky     Gabriel Byrne          Action  Fantasy    1\n",
      "Zooey Deschanel   Joseph Gordon-Levitt   Geoffrey Arend       Chloe Grace Moretz     Comedy  Romance    1\n",
      "Length: 869, dtype: int64\n"
     ]
    }
   ],
   "source": [
    "# Question (5)\n",
    "df=df.dropna(subset=[\"Revenue (Millions)\"])   #刪除Revenue為空 的列\n",
    "df[\"Actor1\"]=df[\"Actors\"].map(lambda x:x.split(\"|\")[0])   #將Actors裡面的4個人分開\n",
    "df[\"Actor2\"]=df[\"Actors\"].map(lambda x:x.split(\"|\")[1])\n",
    "df[\"Actor3\"]=df[\"Actors\"].map(lambda x:x.split(\"|\")[2])\n",
    "df[\"Actor4\"]=df[\"Actors\"].map(lambda x:x.split(\"|\")[-1])\n",
    "df[\"Genre1\"]=df[\"Genre\"].map(lambda x:x.split(\"|\")[0])\n",
    "df[\"Genre2\"]=df[\"Genre\"].map(lambda x:x.split(\"|\")[-1])\n",
    "df1=df.groupby([\"Actor1\",\"Actor2\",\"Actor3\",\"Actor4\",\"Genre1\",\"Genre2\"]).size()\n",
    "print(df1)"
   ]
  },
  {
   "cell_type": "code",
   "execution_count": null,
   "metadata": {},
   "outputs": [],
   "source": []
  }
 ],
 "metadata": {
  "kernelspec": {
   "display_name": "Python 3",
   "language": "python",
   "name": "python3"
  },
  "language_info": {
   "codemirror_mode": {
    "name": "ipython",
    "version": 3
   },
   "file_extension": ".py",
   "mimetype": "text/x-python",
   "name": "python",
   "nbconvert_exporter": "python",
   "pygments_lexer": "ipython3",
   "version": "3.8.5"
  }
 },
 "nbformat": 4,
 "nbformat_minor": 4
}
